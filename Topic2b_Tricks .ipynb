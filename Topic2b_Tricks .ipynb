{
 "cells": [
  {
   "cell_type": "markdown",
   "id": "8580c9df",
   "metadata": {},
   "source": [
    "# Topic 2b: Improving code"
   ]
  },
  {
   "cell_type": "markdown",
   "id": "b708bdca",
   "metadata": {},
   "source": [
    "Our strategy is this course is always to write the simplest implemention of an idea first. One should not over-complicate our code on the first pass, because many parts of your idea may fail. We should always test out that the basic idea works.\n",
    "\n",
    "Once something is working and debugged, we might want to make it more elegant or run faster."
   ]
  },
  {
   "cell_type": "code",
   "execution_count": 1,
   "id": "bbd4bc02",
   "metadata": {},
   "outputs": [],
   "source": [
    "import numpy as np"
   ]
  },
  {
   "cell_type": "markdown",
   "id": "39df5085",
   "metadata": {},
   "source": [
    "### Numpy tricks"
   ]
  },
  {
   "cell_type": "markdown",
   "id": "b603c1eb",
   "metadata": {},
   "source": [
    "When we think about what a computer is doing, it often useful to think about performing for loops or while loops to run through lists of numebres / data. However, when it comes to numpy, we really want to avoid loops as much as possible: loops are slow and numpy is designed to do the loops behind the scenes in a faster way.\n",
    "\n",
    "The most obvious time we might use for loops is for logical statements: if,<,> etc. "
   ]
  },
  {
   "cell_type": "code",
   "execution_count": 2,
   "id": "3615b93f",
   "metadata": {},
   "outputs": [
    {
     "name": "stdout",
     "output_type": "stream",
     "text": [
      "[ True  True False False False False False  True  True  True]\n"
     ]
    }
   ],
   "source": [
    "a=np.random.randn(10)\n",
    "b=np.random.randn(10)\n",
    "print(a<b)"
   ]
  },
  {
   "cell_type": "markdown",
   "id": "b4726f75",
   "metadata": {},
   "source": [
    "But now suppose we want to return $a^2$ if $a>b$ and $b^2$ if $b\\geq a$. You can't use an if statment for the whole array"
   ]
  },
  {
   "cell_type": "code",
   "execution_count": 3,
   "id": "37461d3c",
   "metadata": {},
   "outputs": [
    {
     "ename": "ValueError",
     "evalue": "The truth value of an array with more than one element is ambiguous. Use a.any() or a.all()",
     "output_type": "error",
     "traceback": [
      "\u001b[0;31m---------------------------------------------------------------------------\u001b[0m",
      "\u001b[0;31mValueError\u001b[0m                                Traceback (most recent call last)",
      "\u001b[0;32m/var/folders/vh/rcz751b57355h3qzj37sc3080000gp/T/ipykernel_4198/2014954973.py\u001b[0m in \u001b[0;36m<module>\u001b[0;34m\u001b[0m\n\u001b[0;32m----> 1\u001b[0;31m \u001b[0;32mif\u001b[0m \u001b[0ma\u001b[0m\u001b[0;34m<\u001b[0m\u001b[0mb\u001b[0m\u001b[0;34m:\u001b[0m\u001b[0;34m\u001b[0m\u001b[0;34m\u001b[0m\u001b[0m\n\u001b[0m\u001b[1;32m      2\u001b[0m     \u001b[0mprint\u001b[0m\u001b[0;34m(\u001b[0m\u001b[0ma\u001b[0m\u001b[0;34m**\u001b[0m\u001b[0;36m2\u001b[0m\u001b[0;34m)\u001b[0m\u001b[0;34m\u001b[0m\u001b[0;34m\u001b[0m\u001b[0m\n",
      "\u001b[0;31mValueError\u001b[0m: The truth value of an array with more than one element is ambiguous. Use a.any() or a.all()"
     ]
    }
   ],
   "source": [
    "if a<b:\n",
    "    print(a**2)"
   ]
  },
  {
   "cell_type": "markdown",
   "id": "24610da6",
   "metadata": {},
   "source": [
    "The obvious solution is a for loop:"
   ]
  },
  {
   "cell_type": "code",
   "execution_count": 4,
   "id": "2e42079b",
   "metadata": {},
   "outputs": [
    {
     "name": "stdout",
     "output_type": "stream",
     "text": [
      "[0.0202412  0.27914453 0.00319772 0.01193398 0.50470863 0.53996344\n",
      " 0.00295231 0.07898001 1.50237372 0.0046004 ]\n"
     ]
    }
   ],
   "source": [
    "c=(a<b)\n",
    "out1=np.zeros(len(a))\n",
    "for i in range(len(a)):\n",
    "    if c[i]:\n",
    "        out1[i]=a[i]**2\n",
    "    else:\n",
    "        out1[i]=b[i]**2\n",
    "print(out1)"
   ]
  },
  {
   "cell_type": "markdown",
   "id": "eb5e0444",
   "metadata": {},
   "source": [
    "One minor improvement is that we can use enumerate to simpify the loop"
   ]
  },
  {
   "cell_type": "code",
   "execution_count": 5,
   "id": "5f5481ea",
   "metadata": {},
   "outputs": [
    {
     "name": "stdout",
     "output_type": "stream",
     "text": [
      "[0.0202412  0.27914453 0.00319772 0.01193398 0.50470863 0.53996344\n",
      " 0.00295231 0.07898001 1.50237372 0.0046004 ]\n",
      "[0.0202412  0.27914453 0.00319772 0.01193398 0.50470863 0.53996344\n",
      " 0.00295231 0.07898001 1.50237372 0.0046004 ]\n"
     ]
    }
   ],
   "source": [
    "c=(a<b)\n",
    "out2=np.zeros(len(a))\n",
    "for i,item in enumerate(c):\n",
    "    if item:\n",
    "        out2[i]=a[i]**2\n",
    "    else:\n",
    "        out2[i]=b[i]**2\n",
    "print(out1)\n",
    "print(out2)"
   ]
  },
  {
   "cell_type": "markdown",
   "id": "c6a39b92",
   "metadata": {},
   "source": [
    "To really go futher, we want to use numpy's internal logical operations. The mosy useful of these is np.where(). It works as follows: lets start with one list and we want to do something only when the entry is > 0. First we can try just np.where(list)"
   ]
  },
  {
   "cell_type": "code",
   "execution_count": 6,
   "id": "87a57acc",
   "metadata": {},
   "outputs": [
    {
     "data": {
      "text/plain": [
       "(array([0, 1]),)"
      ]
     },
     "execution_count": 6,
     "metadata": {},
     "output_type": "execute_result"
    }
   ],
   "source": [
    "in1=np.array([10,4,-2])\n",
    "np.where(in1>0)"
   ]
  },
  {
   "cell_type": "markdown",
   "id": "c839da0c",
   "metadata": {},
   "source": [
    "what this spits out is an array of the points where the condition is true. We can use this to return only those values. This is the same as just putting the array of true and false values.  We could already use this, if we realize that if we put an array of values"
   ]
  },
  {
   "cell_type": "code",
   "execution_count": 7,
   "id": "6ca8de82",
   "metadata": {},
   "outputs": [
    {
     "name": "stdout",
     "output_type": "stream",
     "text": [
      "[ 0.14227156 -0.5283413   0.25355555  0.10464695  1.17518847  1.72849485\n",
      "  1.19499784 -0.28103382 -1.22571356  0.06782625]\n",
      "[0.14227156 0.25355555 0.10464695]\n"
     ]
    }
   ],
   "source": [
    "print(a)\n",
    "print(a[np.array([0,2,3])])\n"
   ]
  },
  {
   "cell_type": "markdown",
   "id": "8d9a9d18",
   "metadata": {},
   "source": [
    "The same works for a list/array of true and false (bools)"
   ]
  },
  {
   "cell_type": "code",
   "execution_count": 8,
   "id": "d635350a",
   "metadata": {},
   "outputs": [
    {
     "name": "stdout",
     "output_type": "stream",
     "text": [
      "[False False False  True False False  True False  True False]\n",
      "[ 0.10464695  1.19499784 -1.22571356]\n"
     ]
    }
   ],
   "source": [
    "print(b<0)\n",
    "print(a[b<0])"
   ]
  },
  {
   "cell_type": "markdown",
   "id": "734a039b",
   "metadata": {},
   "source": [
    "In this why, np.where(logical statment) is doing something relatively simple, that we could have done without it."
   ]
  },
  {
   "cell_type": "code",
   "execution_count": 9,
   "id": "69f708ed",
   "metadata": {},
   "outputs": [
    {
     "name": "stdout",
     "output_type": "stream",
     "text": [
      "[10  4] [10  4]\n"
     ]
    }
   ],
   "source": [
    "locs1=np.where(in1>0)\n",
    "print(in1[locs1],in1[in1>0])"
   ]
  },
  {
   "cell_type": "markdown",
   "id": "d1114a1f",
   "metadata": {},
   "source": [
    "Of course, np.where is meant to do more. It is deside as follows: we call with 3 arguements np.where(condition,out_true,out_false)"
   ]
  },
  {
   "cell_type": "code",
   "execution_count": 10,
   "id": "e7060521",
   "metadata": {},
   "outputs": [
    {
     "name": "stdout",
     "output_type": "stream",
     "text": [
      "(array([0, 1]),)\n",
      "[   5    5 -100]\n"
     ]
    }
   ],
   "source": [
    "print(np.where(in1>0))\n",
    "print(np.where(in1>0,5,-100))"
   ]
  },
  {
   "cell_type": "markdown",
   "id": "4c81118a",
   "metadata": {},
   "source": [
    "We can give the outputs for true and false in the form of arrays:"
   ]
  },
  {
   "cell_type": "code",
   "execution_count": 11,
   "id": "569e9943",
   "metadata": {},
   "outputs": [
    {
     "data": {
      "text/plain": [
       "array([ 4, 81,  9])"
      ]
     },
     "execution_count": 11,
     "metadata": {},
     "output_type": "execute_result"
    }
   ],
   "source": [
    "in2=np.array([2,9,15])\n",
    "in3=np.array([20,25,-3])\n",
    "np.where(in2<in3,in2**2,in3**2)"
   ]
  },
  {
   "cell_type": "markdown",
   "id": "6bc30488",
   "metadata": {},
   "source": [
    "We can guess what this is doing as follows: let's make the arrays for the outputs and the arrays of true"
   ]
  },
  {
   "cell_type": "code",
   "execution_count": 12,
   "id": "bd66a58d",
   "metadata": {},
   "outputs": [],
   "source": [
    "out_true=in2**2\n",
    "out_false=in3**2\n",
    "\n",
    "truelist=in2<in3"
   ]
  },
  {
   "cell_type": "markdown",
   "id": "4c180983",
   "metadata": {},
   "source": [
    "We will also need to know which elements are false (ie NOT True)"
   ]
  },
  {
   "cell_type": "code",
   "execution_count": 13,
   "id": "d8a5cbca",
   "metadata": {},
   "outputs": [
    {
     "name": "stdout",
     "output_type": "stream",
     "text": [
      "[ True  True False] [False False  True]\n"
     ]
    }
   ],
   "source": [
    "falselist=np.logical_not(truelist)\n",
    "print(truelist,falselist)"
   ]
  },
  {
   "cell_type": "code",
   "execution_count": 14,
   "id": "7a6eca69",
   "metadata": {},
   "outputs": [
    {
     "name": "stdout",
     "output_type": "stream",
     "text": [
      "[ 4. 81.  9.]\n"
     ]
    }
   ],
   "source": [
    "out_comb=np.zeros(len(in2))\n",
    "out_comb[truelist]=out_true[truelist]\n",
    "out_comb[falselist]=out_false[falselist]\n",
    "print(out_comb)"
   ]
  },
  {
   "cell_type": "markdown",
   "id": "88583226",
   "metadata": {},
   "source": [
    "So we see that np.where can do a lot of logical operations for us. Now we see how we can get our original problem solved in 1 line:"
   ]
  },
  {
   "cell_type": "code",
   "execution_count": 15,
   "id": "59dc12cf",
   "metadata": {},
   "outputs": [
    {
     "name": "stdout",
     "output_type": "stream",
     "text": [
      "[0.0202412  0.27914453 0.00319772 0.01193398 0.50470863 0.53996344\n",
      " 0.00295231 0.07898001 1.50237372 0.0046004 ]\n",
      "[0.0202412  0.27914453 0.00319772 0.01193398 0.50470863 0.53996344\n",
      " 0.00295231 0.07898001 1.50237372 0.0046004 ]\n"
     ]
    }
   ],
   "source": [
    "print(np.where(a<b,a**2,b**2))\n",
    "print(out1)"
   ]
  },
  {
   "cell_type": "markdown",
   "id": "9ca03207",
   "metadata": {},
   "source": [
    "In addition, we can use numpy to do other logical operators if needed, so we aren't at the mercy of np.where"
   ]
  },
  {
   "cell_type": "code",
   "execution_count": 16,
   "id": "eae339a4",
   "metadata": {},
   "outputs": [
    {
     "name": "stdout",
     "output_type": "stream",
     "text": [
      "[False  True  True]\n",
      "[False False False]\n"
     ]
    }
   ],
   "source": [
    "test1=np.array([0,5,-10])\n",
    "test2=np.array([-1,1,-5])\n",
    "print(np.logical_or(test1<test2,test2>0))\n",
    "print(np.logical_and(test1<test2,test2>0))"
   ]
  },
  {
   "cell_type": "markdown",
   "id": "5d05bbe6",
   "metadata": {},
   "source": [
    "### Using \"Try\" "
   ]
  },
  {
   "cell_type": "markdown",
   "id": "eea451c4",
   "metadata": {},
   "source": [
    "There are many times you want to do something but you are not sure if it is going to work. For example, suppose you have a list which contains data. Your whole list is made of strings, but some of them can be converted to integers but you aren't sure which ones.\n",
    "\n",
    "You know if you try to convert a string that is a word to an integer it will give you an error. E.g."
   ]
  },
  {
   "cell_type": "code",
   "execution_count": 17,
   "id": "c18d4b68",
   "metadata": {},
   "outputs": [
    {
     "ename": "ValueError",
     "evalue": "invalid literal for int() with base 10: 'hi'",
     "output_type": "error",
     "traceback": [
      "\u001b[0;31m---------------------------------------------------------------------------\u001b[0m",
      "\u001b[0;31mValueError\u001b[0m                                Traceback (most recent call last)",
      "\u001b[0;32m/var/folders/vh/rcz751b57355h3qzj37sc3080000gp/T/ipykernel_4198/702125894.py\u001b[0m in \u001b[0;36m<module>\u001b[0;34m\u001b[0m\n\u001b[0;32m----> 1\u001b[0;31m \u001b[0mint\u001b[0m\u001b[0;34m(\u001b[0m\u001b[0;34m'hi'\u001b[0m\u001b[0;34m)\u001b[0m\u001b[0;34m\u001b[0m\u001b[0;34m\u001b[0m\u001b[0m\n\u001b[0m",
      "\u001b[0;31mValueError\u001b[0m: invalid literal for int() with base 10: 'hi'"
     ]
    }
   ],
   "source": [
    "int('hi')"
   ]
  },
  {
   "cell_type": "markdown",
   "id": "6db9a9d3",
   "metadata": {},
   "source": [
    "So what you do is \"try\" to turn it into an int. If it works, you do one thing, if it doesn't, you do something else:"
   ]
  },
  {
   "cell_type": "code",
   "execution_count": 18,
   "id": "0c4b4c21",
   "metadata": {},
   "outputs": [],
   "source": [
    "data=['1','2','hi','3']"
   ]
  },
  {
   "cell_type": "code",
   "execution_count": 19,
   "id": "86c67535",
   "metadata": {},
   "outputs": [],
   "source": [
    "def list_to_int(listin):\n",
    "    out=listin.copy()\n",
    "    for i in range(len(listin)):\n",
    "        try:\n",
    "            int(listin[i])\n",
    "        except:\n",
    "            print(listin[i])\n",
    "        else:\n",
    "            out[i]=int(listin[i])\n",
    "    return out"
   ]
  },
  {
   "cell_type": "code",
   "execution_count": 20,
   "id": "7867036d",
   "metadata": {},
   "outputs": [
    {
     "name": "stdout",
     "output_type": "stream",
     "text": [
      "hi\n"
     ]
    },
    {
     "data": {
      "text/plain": [
       "[1, 2, 'hi', 3]"
      ]
     },
     "execution_count": 20,
     "metadata": {},
     "output_type": "execute_result"
    }
   ],
   "source": [
    "list_to_int(data)"
   ]
  },
  {
   "cell_type": "markdown",
   "id": "d3466dbc",
   "metadata": {},
   "source": [
    "This is a very helpful trick when you are working with mixed data, where maybe not everything is what you want, so you can just try it first and then we can use only the data that has the property we want. For example, we could do the same thing, but only keeping the data that is an integer:"
   ]
  },
  {
   "cell_type": "code",
   "execution_count": 21,
   "id": "216ca8e1",
   "metadata": {},
   "outputs": [],
   "source": [
    "def keep_ints(listin):\n",
    "    out=[]\n",
    "    for i in range(len(listin)):\n",
    "        try:\n",
    "            int(listin[i])\n",
    "        except:\n",
    "            print(listin[i])\n",
    "        else:\n",
    "            out.append(int(listin[i]))\n",
    "    return out"
   ]
  },
  {
   "cell_type": "code",
   "execution_count": 22,
   "id": "946cf8b1",
   "metadata": {},
   "outputs": [
    {
     "name": "stdout",
     "output_type": "stream",
     "text": [
      "hi\n"
     ]
    },
    {
     "data": {
      "text/plain": [
       "[1, 2, 3]"
      ]
     },
     "execution_count": 22,
     "metadata": {},
     "output_type": "execute_result"
    }
   ],
   "source": [
    "keep_ints(data)"
   ]
  },
  {
   "cell_type": "markdown",
   "id": "0c06996f",
   "metadata": {},
   "source": [
    "### Tricks for Functions: using args or kwargs"
   ]
  },
  {
   "cell_type": "markdown",
   "id": "902e1ba2",
   "metadata": {},
   "source": [
    "If you look at the documation for most functions, you will see args and kwargs.  These are special kinds of inputs that can be useful:"
   ]
  },
  {
   "cell_type": "markdown",
   "id": "38d038c7",
   "metadata": {},
   "source": [
    "The first one is args, which acts like a list, without actually needing it to be a list. Now, the name args is just a common use.  What really matters is the use of the star:"
   ]
  },
  {
   "cell_type": "code",
   "execution_count": 23,
   "id": "37eee3d5",
   "metadata": {},
   "outputs": [],
   "source": [
    "def sum_X(X,*argv):\n",
    "    out=0\n",
    "    for arg in argv:\n",
    "        out+=arg\n",
    "    return X*out"
   ]
  },
  {
   "cell_type": "code",
   "execution_count": 24,
   "id": "a255e18e",
   "metadata": {},
   "outputs": [
    {
     "name": "stdout",
     "output_type": "stream",
     "text": [
      "2 8 16\n"
     ]
    }
   ],
   "source": [
    "print(sum_X(2,1),sum_X(2,1,3),sum_X(2,1,3,4))"
   ]
  },
  {
   "cell_type": "markdown",
   "id": "a8868e41",
   "metadata": {},
   "source": [
    "Obviously we could have done the same if we just input a list. However, it is most useful when you want to be able to call functions that take all kinds of different inputs, depending on the function"
   ]
  },
  {
   "cell_type": "code",
   "execution_count": 25,
   "id": "1de52496",
   "metadata": {},
   "outputs": [],
   "source": [
    "def func_of_func(fun,*args):\n",
    "    return fun(2,*args)"
   ]
  },
  {
   "cell_type": "code",
   "execution_count": 26,
   "id": "5e103ea5",
   "metadata": {},
   "outputs": [],
   "source": [
    "def fun1(x,p=1,q=2):\n",
    "    return x*p*q\n",
    "def fun2(x,p=1):\n",
    "    return x*p"
   ]
  },
  {
   "cell_type": "code",
   "execution_count": 27,
   "id": "075b3697",
   "metadata": {},
   "outputs": [
    {
     "data": {
      "text/plain": [
       "32"
      ]
     },
     "execution_count": 27,
     "metadata": {},
     "output_type": "execute_result"
    }
   ],
   "source": [
    "func_of_func(fun1,4,4)\n"
   ]
  },
  {
   "cell_type": "code",
   "execution_count": 28,
   "id": "626f315b",
   "metadata": {},
   "outputs": [
    {
     "data": {
      "text/plain": [
       "8"
      ]
     },
     "execution_count": 28,
     "metadata": {},
     "output_type": "execute_result"
    }
   ],
   "source": [
    "func_of_func(fun2,4)"
   ]
  },
  {
   "cell_type": "markdown",
   "id": "ddce0711",
   "metadata": {},
   "source": [
    "Two stars, ususally called kwargs, is like a dictionary without calling a dictionary. Here you need to input both a key and a value. Recall how a dictionary works:"
   ]
  },
  {
   "cell_type": "code",
   "execution_count": 29,
   "id": "a61533e2",
   "metadata": {},
   "outputs": [
    {
     "name": "stdout",
     "output_type": "stream",
     "text": [
      "dict_items([('a', 'hi'), ('b', 2)])\n",
      "dict_keys(['a', 'b'])\n",
      "dict_values(['hi', 2])\n"
     ]
    }
   ],
   "source": [
    "dict1={'a':'hi','b':2}\n",
    "print(dict1.items())\n",
    "print(dict1.keys())\n",
    "print(dict1.values())"
   ]
  },
  {
   "cell_type": "markdown",
   "id": "91ed5c38",
   "metadata": {},
   "source": [
    "We can do something similar with kwargs. We think of the kwargs just like a dictionary"
   ]
  },
  {
   "cell_type": "code",
   "execution_count": 30,
   "id": "be614ba0",
   "metadata": {},
   "outputs": [],
   "source": [
    "def kwargs_test(**kwargs):\n",
    "    for arg,n in kwargs.items():\n",
    "        print('hi '+arg)\n",
    "        print(n*4)"
   ]
  },
  {
   "cell_type": "markdown",
   "id": "692ba44d",
   "metadata": {},
   "source": [
    "The key difference is that we call it in the form string = something. In this case, we are assuming string=name"
   ]
  },
  {
   "cell_type": "code",
   "execution_count": 31,
   "id": "f74af06d",
   "metadata": {},
   "outputs": [
    {
     "name": "stdout",
     "output_type": "stream",
     "text": [
      "hi alice\n",
      "8\n",
      "hi bob\n",
      "200\n"
     ]
    }
   ],
   "source": [
    "kwargs_test(alice=2,bob=50)"
   ]
  },
  {
   "cell_type": "markdown",
   "id": "e5956931",
   "metadata": {},
   "source": [
    "But we could make a version with string = string"
   ]
  },
  {
   "cell_type": "code",
   "execution_count": 32,
   "id": "13d51b05",
   "metadata": {},
   "outputs": [],
   "source": [
    "def kwargs_test2(**kwargs):\n",
    "    for arg,name in kwargs.items():\n",
    "        print('hi '+arg)\n",
    "        print('hi '+name)"
   ]
  },
  {
   "cell_type": "code",
   "execution_count": 33,
   "id": "2a99ddea",
   "metadata": {},
   "outputs": [
    {
     "name": "stdout",
     "output_type": "stream",
     "text": [
      "hi alice\n",
      "hi a\n",
      "hi bob\n",
      "hi 50\n"
     ]
    }
   ],
   "source": [
    "kwargs_test2(alice='a',bob='50')"
   ]
  },
  {
   "cell_type": "markdown",
   "id": "d9387df8",
   "metadata": {},
   "source": [
    "Using dictionary ideas, we can also just run over the keys or values"
   ]
  },
  {
   "cell_type": "code",
   "execution_count": 34,
   "id": "1afd1007",
   "metadata": {},
   "outputs": [],
   "source": [
    "def kwargs_test3(**kwargs):\n",
    "    for key in kwargs.keys():\n",
    "        print(key)\n",
    "    for val in kwargs.values():\n",
    "        print(val)"
   ]
  },
  {
   "cell_type": "code",
   "execution_count": 35,
   "id": "885bcaa9",
   "metadata": {},
   "outputs": [
    {
     "name": "stdout",
     "output_type": "stream",
     "text": [
      "alice\n",
      "bob\n",
      "2\n",
      "50\n"
     ]
    }
   ],
   "source": [
    "kwargs_test3(alice=2,bob=50)"
   ]
  },
  {
   "cell_type": "markdown",
   "id": "a5495a48",
   "metadata": {},
   "source": [
    "Now you can understand how plt.plot (ax.plot) work.  All of the special features of the line are input as kwargs, as we already know from experience. Now we can understand how we could have done this ourselves, if we wanted to."
   ]
  },
  {
   "cell_type": "code",
   "execution_count": null,
   "id": "343f9f20",
   "metadata": {},
   "outputs": [],
   "source": []
  }
 ],
 "metadata": {
  "kernelspec": {
   "display_name": "Python 3 (ipykernel)",
   "language": "python",
   "name": "python3"
  },
  "language_info": {
   "codemirror_mode": {
    "name": "ipython",
    "version": 3
   },
   "file_extension": ".py",
   "mimetype": "text/x-python",
   "name": "python",
   "nbconvert_exporter": "python",
   "pygments_lexer": "ipython3",
   "version": "3.9.7"
  }
 },
 "nbformat": 4,
 "nbformat_minor": 5
}
